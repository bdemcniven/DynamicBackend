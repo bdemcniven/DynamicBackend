{
 "cells": [
  {
   "cell_type": "code",
   "execution_count": 53,
   "id": "bf647641-e1f9-4875-9e15-11da11484326",
   "metadata": {},
   "outputs": [
    {
     "data": {
      "text/plain": [
       "array([[0.+0.j, 0.+0.j, 0.+0.j, 0.+0.j],\n",
       "       [0.+0.j, 0.+0.j, 0.+0.j, 0.+0.j],\n",
       "       [0.+0.j, 0.+0.j, 0.+0.j, 0.+0.j],\n",
       "       [0.+0.j, 0.+0.j, 0.+0.j, 1.+0.j]])"
      ]
     },
     "execution_count": 53,
     "metadata": {},
     "output_type": "execute_result"
    }
   ],
   "source": [
    "from pkg_req import *\n",
    "from construction import *\n",
    "from solver import *\n",
    "from backend import *\n",
    "from pulses import *\n",
    "from fidelity import *\n",
    "from qiskit.circuit import Parameter\n",
    "from qiskit.pulse import acquire, MeasureChannel\n",
    "from qiskit_algorithms.optimizers import NFT, ADAM\n",
    "from qiskit.quantum_info import DensityMatrix\n",
    "\n",
    "#test params\n",
    "dim = 3\n",
    "v0 = 4.86e9\n",
    "anharm0 = -0.32e9\n",
    "r0 = 0.22e9\n",
    "v1 = 4.97e9\n",
    "anharm1 = -0.32e9\n",
    "r1 = 0.26e9\n",
    "J = 0.002e9\n",
    "dt= 1/4.5e9\n",
    "\n",
    "shots=10000000 # Note: Fow now using a huge number so I can ensure counts in all 4 states. Need to add conditionals later\n",
    "#Operators defined\n",
    "H=hamiltonian(dim, v0, v1, anharm0, anharm1, J)\n",
    "drive_op0=driveop(dim, r0)\n",
    "drive_op1=driveop(dim, r1)\n",
    "\n",
    "#solver\n",
    "solver, solver_options=dynam_solver(H, drive_op0, drive_op1, v0, v1, dt)\n",
    "\n",
    "#backend\n",
    "backend=dynam_backend(solver, solver_options, dim)\n",
    "\n",
    "des_state=np.zeros((4,4), dtype=complex) #|00> output\n",
    "#des_state[1, 1] = 1  # Pure state |01>\n",
    "des_state[3, 3] = 1  # Pure state |11>\n",
    "des_state"
   ]
  },
  {
   "cell_type": "code",
   "execution_count": 64,
   "id": "0c3b4a6b-3a49-4211-97e5-b95fcbdb62f8",
   "metadata": {},
   "outputs": [],
   "source": [
    "def pulse_circ(num,A,sig,theta):\n",
    "    schedules = []\n",
    "    with pulse.build(backend=backend) as schedule:\n",
    "        with pulse.align_sequential(): \n",
    "            g1=gauss(num,A,sig,theta)\n",
    "            pulse.play(g1, pulse.DriveChannel(0)) \n",
    "            pulse.play(g1, pulse.DriveChannel(1))\n",
    "            pulse.measure_all()\n",
    "    schedules.append(schedule)\n",
    "    job = backend.run(schedules, shots=shots)\n",
    "    result = job.result()\n",
    "    \n",
    "    counts = {'00': int(result.get_counts(0)['00']), '01': int(result.get_counts(0)['01']), '10': int(result.get_counts(0)['10']), '11': int(result.get_counts(0)['11'])}  \n",
    "    return counts"
   ]
  },
  {
   "cell_type": "code",
   "execution_count": 65,
   "id": "64b93c33-0f6e-4f8c-ae16-9d4c8511eb3c",
   "metadata": {},
   "outputs": [
    {
     "data": {
      "text/plain": [
       "{'00': 7138234, '01': 3327, '10': 2844845, '11': 13594}"
      ]
     },
     "execution_count": 65,
     "metadata": {},
     "output_type": "execute_result"
    }
   ],
   "source": [
    "test=pulse_circ(20,1,10000,np.pi/3)\n",
    "test"
   ]
  },
  {
   "cell_type": "code",
   "execution_count": 69,
   "id": "67c8cc28-653c-4b54-9ae8-21a69a2226a7",
   "metadata": {},
   "outputs": [],
   "source": [
    "def calculate_fidelity_test(pulse_params):\n",
    "    counts=pulse_circ(*pulse_params)\n",
    "    print(counts)\n",
    "    total_shots = sum(counts.values())\n",
    "    probabilities = {state: count / total_shots for state, count in counts.items()}\n",
    "\n",
    "    num_states = 4 \n",
    "    measured_density_matrix = np.zeros((num_states, num_states), dtype=complex)\n",
    "    states = ['00', '01', '10', '11']  \n",
    "    for i, state in enumerate(states):\n",
    "        prob = probabilities.get(state, 0)  # Prob for each state\n",
    "        # |state><state|\n",
    "        outer_product = np.outer(np.array([1 if j == i else 0 for j in range(num_states)]), \n",
    "                                 np.array([1 if j == i else 0 for j in range(num_states)]))\n",
    "        measured_density_matrix += prob * outer_product\n",
    "\n",
    "    #Convert to DensityMatrix object\n",
    "    rho_measured = measured_density_matrix#DensityMatrix(measured_density_matrix)\n",
    "\n",
    "    print('fidelity with target state set to |11>: ')\n",
    "    fidelity = state_fidelity(rho_measured, des_state)\n",
    "    return 1-np.abs(fidelity) "
   ]
  },
  {
   "cell_type": "code",
   "execution_count": 70,
   "id": "dcd41514-91eb-4b31-8439-a4aa12dcdb30",
   "metadata": {},
   "outputs": [
    {
     "name": "stdout",
     "output_type": "stream",
     "text": [
      "{'00': 9729691, '01': 43, '10': 270260, '11': 6}\n",
      "fidelity with target state set to |11>: \n"
     ]
    },
    {
     "data": {
      "text/plain": [
       "np.float64(0.9999994)"
      ]
     },
     "execution_count": 70,
     "metadata": {},
     "output_type": "execute_result"
    }
   ],
   "source": [
    "te=[100,0.5,0.5,0]\n",
    "calculate_fidelity_test(te)"
   ]
  },
  {
   "cell_type": "code",
   "execution_count": 73,
   "id": "fe999935-c5ac-4d65-bd48-b262b658d4e1",
   "metadata": {},
   "outputs": [
    {
     "ename": "UnassignedDurationError",
     "evalue": "'All instruction durations should be assigned before creating `Schedule`.Please check `.parameters` to find unassigned parameter objects.'",
     "output_type": "error",
     "traceback": [
      "\u001b[1;31m---------------------------------------------------------------------------\u001b[0m",
      "\u001b[1;31mUnassignedDurationError\u001b[0m                   Traceback (most recent call last)",
      "Cell \u001b[1;32mIn[73], line 4\u001b[0m\n\u001b[0;32m      1\u001b[0m optimizer \u001b[38;5;241m=\u001b[39m NFT(maxiter\u001b[38;5;241m=\u001b[39m\u001b[38;5;241m10\u001b[39m)\u001b[38;5;66;03m#, maxfev=1024, disp=True,reset_interval=32)\u001b[39;00m\n\u001b[0;32m      3\u001b[0m \u001b[38;5;66;03m#opt_params = optimizer.minimize(lambda x: calculate_fidelityx0(x, counts, ideal_density_matrix),x0=[100,0.5,5,0,0])\u001b[39;00m\n\u001b[1;32m----> 4\u001b[0m opt_params \u001b[38;5;241m=\u001b[39m \u001b[43moptimizer\u001b[49m\u001b[38;5;241;43m.\u001b[39;49m\u001b[43mminimize\u001b[49m\u001b[43m(\u001b[49m\u001b[43mcalculate_fidelity_test\u001b[49m\u001b[43m,\u001b[49m\u001b[43mx0\u001b[49m\u001b[38;5;241;43m=\u001b[39;49m\u001b[43m[\u001b[49m\u001b[38;5;241;43m100\u001b[39;49m\u001b[43m,\u001b[49m\u001b[38;5;241;43m0.7\u001b[39;49m\u001b[43m,\u001b[49m\u001b[38;5;241;43m0.7\u001b[39;49m\u001b[43m,\u001b[49m\u001b[43mnp\u001b[49m\u001b[38;5;241;43m.\u001b[39;49m\u001b[43mpi\u001b[49m\u001b[43m]\u001b[49m\u001b[43m)\u001b[49m\n\u001b[0;32m      5\u001b[0m \u001b[38;5;66;03m#opt_vals = opt_params.xm\u001b[39;00m\n",
      "File \u001b[1;32m~\\anaconda3\\envs\\haiqu_updated\\Lib\\site-packages\\qiskit_algorithms\\optimizers\\scipy_optimizer.py:148\u001b[0m, in \u001b[0;36mSciPyOptimizer.minimize\u001b[1;34m(self, fun, x0, jac, bounds)\u001b[0m\n\u001b[0;32m    145\u001b[0m     swapped_deprecated_args \u001b[38;5;241m=\u001b[39m \u001b[38;5;28;01mTrue\u001b[39;00m\n\u001b[0;32m    146\u001b[0m     \u001b[38;5;28mself\u001b[39m\u001b[38;5;241m.\u001b[39m_options[\u001b[38;5;124m\"\u001b[39m\u001b[38;5;124mmaxfun\u001b[39m\u001b[38;5;124m\"\u001b[39m] \u001b[38;5;241m=\u001b[39m \u001b[38;5;28mself\u001b[39m\u001b[38;5;241m.\u001b[39m_options\u001b[38;5;241m.\u001b[39mpop(\u001b[38;5;124m\"\u001b[39m\u001b[38;5;124mmaxiter\u001b[39m\u001b[38;5;124m\"\u001b[39m)\n\u001b[1;32m--> 148\u001b[0m raw_result \u001b[38;5;241m=\u001b[39m \u001b[43mminimize\u001b[49m\u001b[43m(\u001b[49m\n\u001b[0;32m    149\u001b[0m \u001b[43m    \u001b[49m\u001b[43mfun\u001b[49m\u001b[38;5;241;43m=\u001b[39;49m\u001b[43mfun\u001b[49m\u001b[43m,\u001b[49m\n\u001b[0;32m    150\u001b[0m \u001b[43m    \u001b[49m\u001b[43mx0\u001b[49m\u001b[38;5;241;43m=\u001b[39;49m\u001b[43mx0\u001b[49m\u001b[43m,\u001b[49m\n\u001b[0;32m    151\u001b[0m \u001b[43m    \u001b[49m\u001b[43mmethod\u001b[49m\u001b[38;5;241;43m=\u001b[39;49m\u001b[38;5;28;43mself\u001b[39;49m\u001b[38;5;241;43m.\u001b[39;49m\u001b[43m_method\u001b[49m\u001b[43m,\u001b[49m\n\u001b[0;32m    152\u001b[0m \u001b[43m    \u001b[49m\u001b[43mjac\u001b[49m\u001b[38;5;241;43m=\u001b[39;49m\u001b[43mjac\u001b[49m\u001b[43m,\u001b[49m\n\u001b[0;32m    153\u001b[0m \u001b[43m    \u001b[49m\u001b[43mbounds\u001b[49m\u001b[38;5;241;43m=\u001b[39;49m\u001b[43mbounds\u001b[49m\u001b[43m,\u001b[49m\n\u001b[0;32m    154\u001b[0m \u001b[43m    \u001b[49m\u001b[43moptions\u001b[49m\u001b[38;5;241;43m=\u001b[39;49m\u001b[38;5;28;43mself\u001b[39;49m\u001b[38;5;241;43m.\u001b[39;49m\u001b[43m_options\u001b[49m\u001b[43m,\u001b[49m\n\u001b[0;32m    155\u001b[0m \u001b[43m    \u001b[49m\u001b[38;5;241;43m*\u001b[39;49m\u001b[38;5;241;43m*\u001b[39;49m\u001b[38;5;28;43mself\u001b[39;49m\u001b[38;5;241;43m.\u001b[39;49m\u001b[43m_kwargs\u001b[49m\u001b[43m,\u001b[49m\n\u001b[0;32m    156\u001b[0m \u001b[43m\u001b[49m\u001b[43m)\u001b[49m\n\u001b[0;32m    157\u001b[0m \u001b[38;5;28;01mif\u001b[39;00m swapped_deprecated_args:\n\u001b[0;32m    158\u001b[0m     \u001b[38;5;28mself\u001b[39m\u001b[38;5;241m.\u001b[39m_options[\u001b[38;5;124m\"\u001b[39m\u001b[38;5;124mmaxiter\u001b[39m\u001b[38;5;124m\"\u001b[39m] \u001b[38;5;241m=\u001b[39m \u001b[38;5;28mself\u001b[39m\u001b[38;5;241m.\u001b[39m_options\u001b[38;5;241m.\u001b[39mpop(\u001b[38;5;124m\"\u001b[39m\u001b[38;5;124mmaxfun\u001b[39m\u001b[38;5;124m\"\u001b[39m)\n",
      "File \u001b[1;32m~\\anaconda3\\envs\\haiqu_updated\\Lib\\site-packages\\scipy\\optimize\\_minimize.py:654\u001b[0m, in \u001b[0;36mminimize\u001b[1;34m(fun, x0, args, method, jac, hess, hessp, bounds, constraints, tol, callback, options)\u001b[0m\n\u001b[0;32m    648\u001b[0m         options\u001b[38;5;241m.\u001b[39msetdefault(\u001b[38;5;124m'\u001b[39m\u001b[38;5;124mbarrier_tol\u001b[39m\u001b[38;5;124m'\u001b[39m, tol)\n\u001b[0;32m    650\u001b[0m \u001b[38;5;28;01mif\u001b[39;00m meth \u001b[38;5;241m==\u001b[39m \u001b[38;5;124m'\u001b[39m\u001b[38;5;124m_custom\u001b[39m\u001b[38;5;124m'\u001b[39m:\n\u001b[0;32m    651\u001b[0m     \u001b[38;5;66;03m# custom method called before bounds and constraints are 'standardised'\u001b[39;00m\n\u001b[0;32m    652\u001b[0m     \u001b[38;5;66;03m# custom method should be able to accept whatever bounds/constraints\u001b[39;00m\n\u001b[0;32m    653\u001b[0m     \u001b[38;5;66;03m# are provided to it.\u001b[39;00m\n\u001b[1;32m--> 654\u001b[0m     \u001b[38;5;28;01mreturn\u001b[39;00m \u001b[43mmethod\u001b[49m\u001b[43m(\u001b[49m\u001b[43mfun\u001b[49m\u001b[43m,\u001b[49m\u001b[43m \u001b[49m\u001b[43mx0\u001b[49m\u001b[43m,\u001b[49m\u001b[43m \u001b[49m\u001b[43margs\u001b[49m\u001b[38;5;241;43m=\u001b[39;49m\u001b[43margs\u001b[49m\u001b[43m,\u001b[49m\u001b[43m \u001b[49m\u001b[43mjac\u001b[49m\u001b[38;5;241;43m=\u001b[39;49m\u001b[43mjac\u001b[49m\u001b[43m,\u001b[49m\u001b[43m \u001b[49m\u001b[43mhess\u001b[49m\u001b[38;5;241;43m=\u001b[39;49m\u001b[43mhess\u001b[49m\u001b[43m,\u001b[49m\u001b[43m \u001b[49m\u001b[43mhessp\u001b[49m\u001b[38;5;241;43m=\u001b[39;49m\u001b[43mhessp\u001b[49m\u001b[43m,\u001b[49m\n\u001b[0;32m    655\u001b[0m \u001b[43m                  \u001b[49m\u001b[43mbounds\u001b[49m\u001b[38;5;241;43m=\u001b[39;49m\u001b[43mbounds\u001b[49m\u001b[43m,\u001b[49m\u001b[43m \u001b[49m\u001b[43mconstraints\u001b[49m\u001b[38;5;241;43m=\u001b[39;49m\u001b[43mconstraints\u001b[49m\u001b[43m,\u001b[49m\n\u001b[0;32m    656\u001b[0m \u001b[43m                  \u001b[49m\u001b[43mcallback\u001b[49m\u001b[38;5;241;43m=\u001b[39;49m\u001b[43mcallback\u001b[49m\u001b[43m,\u001b[49m\u001b[43m \u001b[49m\u001b[38;5;241;43m*\u001b[39;49m\u001b[38;5;241;43m*\u001b[39;49m\u001b[43moptions\u001b[49m\u001b[43m)\u001b[49m\n\u001b[0;32m    658\u001b[0m constraints \u001b[38;5;241m=\u001b[39m standardize_constraints(constraints, x0, meth)\n\u001b[0;32m    660\u001b[0m remove_vars \u001b[38;5;241m=\u001b[39m \u001b[38;5;28;01mFalse\u001b[39;00m\n",
      "File \u001b[1;32m~\\anaconda3\\envs\\haiqu_updated\\Lib\\site-packages\\qiskit_algorithms\\optimizers\\nft.py:130\u001b[0m, in \u001b[0;36mnakanishi_fujii_todo\u001b[1;34m(fun, x0, args, maxiter, maxfev, reset_interval, eps, callback, **_)\u001b[0m\n\u001b[0;32m    127\u001b[0m         recycle_z0 \u001b[38;5;241m=\u001b[39m \u001b[38;5;28;01mNone\u001b[39;00m\n\u001b[0;32m    129\u001b[0m \u001b[38;5;28;01mif\u001b[39;00m recycle_z0 \u001b[38;5;129;01mis\u001b[39;00m \u001b[38;5;28;01mNone\u001b[39;00m:\n\u001b[1;32m--> 130\u001b[0m     z0 \u001b[38;5;241m=\u001b[39m \u001b[43mfun\u001b[49m\u001b[43m(\u001b[49m\u001b[43mnp\u001b[49m\u001b[38;5;241;43m.\u001b[39;49m\u001b[43mcopy\u001b[49m\u001b[43m(\u001b[49m\u001b[43mx0\u001b[49m\u001b[43m)\u001b[49m\u001b[43m,\u001b[49m\u001b[43m \u001b[49m\u001b[38;5;241;43m*\u001b[39;49m\u001b[43margs\u001b[49m\u001b[43m)\u001b[49m\n\u001b[0;32m    131\u001b[0m     funcalls \u001b[38;5;241m+\u001b[39m\u001b[38;5;241m=\u001b[39m \u001b[38;5;241m1\u001b[39m\n\u001b[0;32m    132\u001b[0m \u001b[38;5;28;01melse\u001b[39;00m:\n",
      "Cell \u001b[1;32mIn[69], line 2\u001b[0m, in \u001b[0;36mcalculate_fidelity_test\u001b[1;34m(pulse_params)\u001b[0m\n\u001b[0;32m      1\u001b[0m \u001b[38;5;28;01mdef\u001b[39;00m \u001b[38;5;21mcalculate_fidelity_test\u001b[39m(pulse_params):\n\u001b[1;32m----> 2\u001b[0m     counts\u001b[38;5;241m=\u001b[39m\u001b[43mpulse_circ\u001b[49m\u001b[43m(\u001b[49m\u001b[38;5;241;43m*\u001b[39;49m\u001b[43mpulse_params\u001b[49m\u001b[43m)\u001b[49m\n\u001b[0;32m      3\u001b[0m     \u001b[38;5;28mprint\u001b[39m(counts)\n\u001b[0;32m      4\u001b[0m     total_shots \u001b[38;5;241m=\u001b[39m \u001b[38;5;28msum\u001b[39m(counts\u001b[38;5;241m.\u001b[39mvalues())\n",
      "Cell \u001b[1;32mIn[64], line 14\u001b[0m, in \u001b[0;36mpulse_circ\u001b[1;34m(num, A, sig, theta)\u001b[0m\n\u001b[0;32m     12\u001b[0m schedules\u001b[38;5;241m.\u001b[39mappend(schedule)\n\u001b[0;32m     13\u001b[0m     \u001b[38;5;66;03m#schedules[0].draw()\u001b[39;00m\n\u001b[1;32m---> 14\u001b[0m job \u001b[38;5;241m=\u001b[39m \u001b[43mbackend\u001b[49m\u001b[38;5;241;43m.\u001b[39;49m\u001b[43mrun\u001b[49m\u001b[43m(\u001b[49m\u001b[43mschedules\u001b[49m\u001b[43m,\u001b[49m\u001b[43m \u001b[49m\u001b[43mshots\u001b[49m\u001b[38;5;241;43m=\u001b[39;49m\u001b[43mshots\u001b[49m\u001b[43m)\u001b[49m\n\u001b[0;32m     15\u001b[0m result \u001b[38;5;241m=\u001b[39m job\u001b[38;5;241m.\u001b[39mresult()\n\u001b[0;32m     17\u001b[0m counts \u001b[38;5;241m=\u001b[39m {\u001b[38;5;124m'\u001b[39m\u001b[38;5;124m00\u001b[39m\u001b[38;5;124m'\u001b[39m: \u001b[38;5;28mint\u001b[39m(result\u001b[38;5;241m.\u001b[39mget_counts(\u001b[38;5;241m0\u001b[39m)[\u001b[38;5;124m'\u001b[39m\u001b[38;5;124m00\u001b[39m\u001b[38;5;124m'\u001b[39m]), \u001b[38;5;124m'\u001b[39m\u001b[38;5;124m01\u001b[39m\u001b[38;5;124m'\u001b[39m: \u001b[38;5;28mint\u001b[39m(result\u001b[38;5;241m.\u001b[39mget_counts(\u001b[38;5;241m0\u001b[39m)[\u001b[38;5;124m'\u001b[39m\u001b[38;5;124m01\u001b[39m\u001b[38;5;124m'\u001b[39m]), \u001b[38;5;124m'\u001b[39m\u001b[38;5;124m10\u001b[39m\u001b[38;5;124m'\u001b[39m: \u001b[38;5;28mint\u001b[39m(result\u001b[38;5;241m.\u001b[39mget_counts(\u001b[38;5;241m0\u001b[39m)[\u001b[38;5;124m'\u001b[39m\u001b[38;5;124m10\u001b[39m\u001b[38;5;124m'\u001b[39m]), \u001b[38;5;124m'\u001b[39m\u001b[38;5;124m11\u001b[39m\u001b[38;5;124m'\u001b[39m: \u001b[38;5;28mint\u001b[39m(result\u001b[38;5;241m.\u001b[39mget_counts(\u001b[38;5;241m0\u001b[39m)[\u001b[38;5;124m'\u001b[39m\u001b[38;5;124m11\u001b[39m\u001b[38;5;124m'\u001b[39m])}\n",
      "File \u001b[1;32m~\\anaconda3\\envs\\haiqu_updated\\Lib\\site-packages\\qiskit_dynamics\\backend\\dynamics_backend.py:427\u001b[0m, in \u001b[0;36mDynamicsBackend.run\u001b[1;34m(self, run_input, validate, **options)\u001b[0m\n\u001b[0;32m    424\u001b[0m \u001b[38;5;28;01melse\u001b[39;00m:\n\u001b[0;32m    425\u001b[0m     backend \u001b[38;5;241m=\u001b[39m \u001b[38;5;28mself\u001b[39m\n\u001b[1;32m--> 427\u001b[0m schedules, num_memory_slots_list \u001b[38;5;241m=\u001b[39m \u001b[43m_to_schedule_list\u001b[49m\u001b[43m(\u001b[49m\u001b[43mrun_input\u001b[49m\u001b[43m,\u001b[49m\u001b[43m \u001b[49m\u001b[43mbackend\u001b[49m\u001b[38;5;241;43m=\u001b[39;49m\u001b[43mbackend\u001b[49m\u001b[43m)\u001b[49m\n\u001b[0;32m    429\u001b[0m \u001b[38;5;66;03m# get the acquires sample times and subsystem measurement information\u001b[39;00m\n\u001b[0;32m    430\u001b[0m (\n\u001b[0;32m    431\u001b[0m     t_span,\n\u001b[0;32m    432\u001b[0m     measurement_subsystems_list,\n\u001b[1;32m   (...)\u001b[0m\n\u001b[0;32m    435\u001b[0m     schedules, backend\u001b[38;5;241m.\u001b[39moptions\u001b[38;5;241m.\u001b[39msubsystem_dims, backend\u001b[38;5;241m.\u001b[39moptions\u001b[38;5;241m.\u001b[39msolver\u001b[38;5;241m.\u001b[39m_dt\n\u001b[0;32m    436\u001b[0m )\n",
      "File \u001b[1;32m~\\anaconda3\\envs\\haiqu_updated\\Lib\\site-packages\\qiskit_dynamics\\backend\\dynamics_backend.py:1034\u001b[0m, in \u001b[0;36m_to_schedule_list\u001b[1;34m(run_input, backend)\u001b[0m\n\u001b[0;32m   1032\u001b[0m num_memslots\u001b[38;5;241m.\u001b[39mappend(\u001b[38;5;28;01mNone\u001b[39;00m)\n\u001b[0;32m   1033\u001b[0m \u001b[38;5;28;01mif\u001b[39;00m \u001b[38;5;28misinstance\u001b[39m(sched, ScheduleBlock):\n\u001b[1;32m-> 1034\u001b[0m     schedules\u001b[38;5;241m.\u001b[39mappend(\u001b[43mblock_to_schedule\u001b[49m\u001b[43m(\u001b[49m\u001b[43msched\u001b[49m\u001b[43m)\u001b[49m)\n\u001b[0;32m   1035\u001b[0m \u001b[38;5;28;01melif\u001b[39;00m \u001b[38;5;28misinstance\u001b[39m(sched, Schedule):\n\u001b[0;32m   1036\u001b[0m     schedules\u001b[38;5;241m.\u001b[39mappend(sched)\n",
      "File \u001b[1;32m~\\anaconda3\\envs\\haiqu_updated\\Lib\\site-packages\\qiskit\\pulse\\transforms\\canonicalization.py:50\u001b[0m, in \u001b[0;36mblock_to_schedule\u001b[1;34m(block)\u001b[0m\n\u001b[0;32m     35\u001b[0m \u001b[38;5;250m\u001b[39m\u001b[38;5;124;03m\"\"\"Convert ``ScheduleBlock`` to ``Schedule``.\u001b[39;00m\n\u001b[0;32m     36\u001b[0m \n\u001b[0;32m     37\u001b[0m \u001b[38;5;124;03mArgs:\u001b[39;00m\n\u001b[1;32m   (...)\u001b[0m\n\u001b[0;32m     47\u001b[0m \u001b[38;5;124;03m.. note:: This transform may insert barriers in between contexts.\u001b[39;00m\n\u001b[0;32m     48\u001b[0m \u001b[38;5;124;03m\"\"\"\u001b[39;00m\n\u001b[0;32m     49\u001b[0m \u001b[38;5;28;01mif\u001b[39;00m \u001b[38;5;129;01mnot\u001b[39;00m block\u001b[38;5;241m.\u001b[39mis_schedulable():\n\u001b[1;32m---> 50\u001b[0m     \u001b[38;5;28;01mraise\u001b[39;00m UnassignedDurationError(\n\u001b[0;32m     51\u001b[0m         \u001b[38;5;124m\"\u001b[39m\u001b[38;5;124mAll instruction durations should be assigned before creating `Schedule`.\u001b[39m\u001b[38;5;124m\"\u001b[39m\n\u001b[0;32m     52\u001b[0m         \u001b[38;5;124m\"\u001b[39m\u001b[38;5;124mPlease check `.parameters` to find unassigned parameter objects.\u001b[39m\u001b[38;5;124m\"\u001b[39m\n\u001b[0;32m     53\u001b[0m     )\n\u001b[0;32m     55\u001b[0m schedule \u001b[38;5;241m=\u001b[39m Schedule\u001b[38;5;241m.\u001b[39minitialize_from(block)\n\u001b[0;32m     57\u001b[0m \u001b[38;5;28;01mfor\u001b[39;00m op_data \u001b[38;5;129;01min\u001b[39;00m block\u001b[38;5;241m.\u001b[39mblocks:\n",
      "\u001b[1;31mUnassignedDurationError\u001b[0m: 'All instruction durations should be assigned before creating `Schedule`.Please check `.parameters` to find unassigned parameter objects.'"
     ]
    }
   ],
   "source": [
    "optimizer = NFT(maxiter=10)#, maxfev=1024, disp=True,reset_interval=32)\n",
    "\n",
    "#opt_params = optimizer.minimize(lambda x: calculate_fidelityx0(x, counts, ideal_density_matrix),x0=[100,0.5,5,0,0])\n",
    "opt_params = optimizer.minimize(calculate_fidelity_test,x0=[100,0.7,0.7,np.pi])\n",
    "#opt_vals = opt_params.x"
   ]
  },
  {
   "cell_type": "code",
   "execution_count": null,
   "id": "766e742e-2231-4569-b5b2-ca6806bea0ae",
   "metadata": {},
   "outputs": [],
   "source": []
  }
 ],
 "metadata": {
  "kernelspec": {
   "display_name": "Python 3 (ipykernel)",
   "language": "python",
   "name": "python3"
  },
  "language_info": {
   "codemirror_mode": {
    "name": "ipython",
    "version": 3
   },
   "file_extension": ".py",
   "mimetype": "text/x-python",
   "name": "python",
   "nbconvert_exporter": "python",
   "pygments_lexer": "ipython3",
   "version": "3.12.5"
  }
 },
 "nbformat": 4,
 "nbformat_minor": 5
}
